{
 "cells": [
  {
   "cell_type": "markdown",
   "metadata": {},
   "source": [
    "# Lab | Matplotlib & Seaborn\n",
    "\n",
    "#### Import all the necessary libraries here:"
   ]
  },
  {
   "cell_type": "code",
   "execution_count": 2,
   "metadata": {},
   "outputs": [],
   "source": [
    "# Libraries\n",
    "import numpy as np\n",
    "import pandas as pd \n",
    "import seaborn as sns\n",
    "import matplotlib.pyplot as plt\n",
    "# Your Code Here\n",
    "\n",
    "# Matplotlib inline to visualize Matplotlib graphs\n",
    "%matplotlib inline\n",
    "%config Inlinebackend.figure_format= 'retina'\n",
    "\n",
    "# Configuration to set so that all the Seaborn figs come out with this size\n",
    "sns.set_context(\"poster\")\n",
    "sns.set(rc={\"figure.figsize\": (12.,4.)})\n",
    "sns.set_style(\"whitegrid\")"
   ]
  },
  {
   "cell_type": "markdown",
   "metadata": {},
   "source": [
    "## Challenge \n",
    "#### Import the `Fitbit2` dataset and store it in a variable called `fitbit`. You can find the dataset in Ironhack's database:\n",
    "* db: `fitbit`\n",
    "* table: `fitbit2`"
   ]
  },
  {
   "cell_type": "code",
   "execution_count": 3,
   "metadata": {},
   "outputs": [
    {
     "data": {
      "text/html": [
       "<div>\n",
       "<style scoped>\n",
       "    .dataframe tbody tr th:only-of-type {\n",
       "        vertical-align: middle;\n",
       "    }\n",
       "\n",
       "    .dataframe tbody tr th {\n",
       "        vertical-align: top;\n",
       "    }\n",
       "\n",
       "    .dataframe thead th {\n",
       "        text-align: right;\n",
       "    }\n",
       "</style>\n",
       "<table border=\"1\" class=\"dataframe\">\n",
       "  <thead>\n",
       "    <tr style=\"text-align: right;\">\n",
       "      <th></th>\n",
       "      <th>Date</th>\n",
       "      <th>Calorie burned</th>\n",
       "      <th>Steps</th>\n",
       "      <th>Distance</th>\n",
       "      <th>Floors</th>\n",
       "      <th>Minutes Sedentary</th>\n",
       "      <th>Minutes Lightly Active</th>\n",
       "      <th>Minutes Fairly Active</th>\n",
       "      <th>Minutes Very Active</th>\n",
       "      <th>Activity Calories</th>\n",
       "      <th>...</th>\n",
       "      <th>Distance_miles</th>\n",
       "      <th>Days</th>\n",
       "      <th>Days_encoded</th>\n",
       "      <th>Work_or_Weekend</th>\n",
       "      <th>Hours Sleep</th>\n",
       "      <th>Sleep efficiency</th>\n",
       "      <th>Yesterday_sleep</th>\n",
       "      <th>Yesterday_sleep_efficiency</th>\n",
       "      <th>Months</th>\n",
       "      <th>Months_encoded</th>\n",
       "    </tr>\n",
       "  </thead>\n",
       "  <tbody>\n",
       "    <tr>\n",
       "      <th>115</th>\n",
       "      <td>2015-08-31</td>\n",
       "      <td>3136</td>\n",
       "      <td>10757</td>\n",
       "      <td>7.99</td>\n",
       "      <td>15</td>\n",
       "      <td>1.187</td>\n",
       "      <td>145</td>\n",
       "      <td>43</td>\n",
       "      <td>65</td>\n",
       "      <td>1532</td>\n",
       "      <td>...</td>\n",
       "      <td>4.964754</td>\n",
       "      <td>Monday</td>\n",
       "      <td>0.0</td>\n",
       "      <td>1</td>\n",
       "      <td>6.616667</td>\n",
       "      <td>90.846682</td>\n",
       "      <td>5.433333</td>\n",
       "      <td>96.165192</td>\n",
       "      <td>August</td>\n",
       "      <td>8</td>\n",
       "    </tr>\n",
       "    <tr>\n",
       "      <th>63</th>\n",
       "      <td>2015-07-10</td>\n",
       "      <td>3134</td>\n",
       "      <td>10644</td>\n",
       "      <td>7.91</td>\n",
       "      <td>15</td>\n",
       "      <td>683.000</td>\n",
       "      <td>283</td>\n",
       "      <td>36</td>\n",
       "      <td>17</td>\n",
       "      <td>1606</td>\n",
       "      <td>...</td>\n",
       "      <td>4.915045</td>\n",
       "      <td>Friday</td>\n",
       "      <td>4.0</td>\n",
       "      <td>1</td>\n",
       "      <td>6.133333</td>\n",
       "      <td>85.382831</td>\n",
       "      <td>9.166667</td>\n",
       "      <td>92.592593</td>\n",
       "      <td>July</td>\n",
       "      <td>7</td>\n",
       "    </tr>\n",
       "    <tr>\n",
       "      <th>260</th>\n",
       "      <td>2016-01-23</td>\n",
       "      <td>3615</td>\n",
       "      <td>17541</td>\n",
       "      <td>13.12</td>\n",
       "      <td>9</td>\n",
       "      <td>570.000</td>\n",
       "      <td>358</td>\n",
       "      <td>50</td>\n",
       "      <td>45</td>\n",
       "      <td>2286</td>\n",
       "      <td>...</td>\n",
       "      <td>8.152388</td>\n",
       "      <td>Saturday</td>\n",
       "      <td>5.0</td>\n",
       "      <td>0</td>\n",
       "      <td>5.416667</td>\n",
       "      <td>96.726190</td>\n",
       "      <td>7.233333</td>\n",
       "      <td>93.133047</td>\n",
       "      <td>January</td>\n",
       "      <td>1</td>\n",
       "    </tr>\n",
       "    <tr>\n",
       "      <th>218</th>\n",
       "      <td>2015-12-12</td>\n",
       "      <td>2766</td>\n",
       "      <td>7157</td>\n",
       "      <td>5.32</td>\n",
       "      <td>11</td>\n",
       "      <td>605.000</td>\n",
       "      <td>290</td>\n",
       "      <td>0</td>\n",
       "      <td>0</td>\n",
       "      <td>1216</td>\n",
       "      <td>...</td>\n",
       "      <td>3.305694</td>\n",
       "      <td>Saturday</td>\n",
       "      <td>5.0</td>\n",
       "      <td>0</td>\n",
       "      <td>3.866667</td>\n",
       "      <td>95.473251</td>\n",
       "      <td>3.266667</td>\n",
       "      <td>91.162791</td>\n",
       "      <td>December</td>\n",
       "      <td>12</td>\n",
       "    </tr>\n",
       "    <tr>\n",
       "      <th>269</th>\n",
       "      <td>2016-02-01</td>\n",
       "      <td>2986</td>\n",
       "      <td>11426</td>\n",
       "      <td>8.52</td>\n",
       "      <td>12</td>\n",
       "      <td>911.000</td>\n",
       "      <td>192</td>\n",
       "      <td>48</td>\n",
       "      <td>43</td>\n",
       "      <td>1478</td>\n",
       "      <td>...</td>\n",
       "      <td>5.294081</td>\n",
       "      <td>Monday</td>\n",
       "      <td>0.0</td>\n",
       "      <td>1</td>\n",
       "      <td>5.466667</td>\n",
       "      <td>89.863014</td>\n",
       "      <td>5.950000</td>\n",
       "      <td>91.071429</td>\n",
       "      <td>February</td>\n",
       "      <td>2</td>\n",
       "    </tr>\n",
       "    <tr>\n",
       "      <th>11</th>\n",
       "      <td>2015-05-19</td>\n",
       "      <td>2911</td>\n",
       "      <td>12425</td>\n",
       "      <td>9.23</td>\n",
       "      <td>14</td>\n",
       "      <td>827.000</td>\n",
       "      <td>186</td>\n",
       "      <td>18</td>\n",
       "      <td>54</td>\n",
       "      <td>1351</td>\n",
       "      <td>...</td>\n",
       "      <td>5.735254</td>\n",
       "      <td>Tuesday</td>\n",
       "      <td>1.0</td>\n",
       "      <td>1</td>\n",
       "      <td>6.133333</td>\n",
       "      <td>87.619048</td>\n",
       "      <td>2.783333</td>\n",
       "      <td>92.777778</td>\n",
       "      <td>May</td>\n",
       "      <td>5</td>\n",
       "    </tr>\n",
       "    <tr>\n",
       "      <th>308</th>\n",
       "      <td>2016-03-10</td>\n",
       "      <td>3307</td>\n",
       "      <td>1853</td>\n",
       "      <td>14.71</td>\n",
       "      <td>20</td>\n",
       "      <td>793.000</td>\n",
       "      <td>162</td>\n",
       "      <td>21</td>\n",
       "      <td>100</td>\n",
       "      <td>1766</td>\n",
       "      <td>...</td>\n",
       "      <td>9.140367</td>\n",
       "      <td>Thursday</td>\n",
       "      <td>3.0</td>\n",
       "      <td>1</td>\n",
       "      <td>5.566667</td>\n",
       "      <td>91.758242</td>\n",
       "      <td>0.000000</td>\n",
       "      <td>0.000000</td>\n",
       "      <td>March</td>\n",
       "      <td>3</td>\n",
       "    </tr>\n",
       "    <tr>\n",
       "      <th>353</th>\n",
       "      <td>2016-04-24</td>\n",
       "      <td>2863</td>\n",
       "      <td>10413</td>\n",
       "      <td>7.73</td>\n",
       "      <td>6</td>\n",
       "      <td>700.000</td>\n",
       "      <td>269</td>\n",
       "      <td>28</td>\n",
       "      <td>24</td>\n",
       "      <td>1411</td>\n",
       "      <td>...</td>\n",
       "      <td>4.803198</td>\n",
       "      <td>Sunday</td>\n",
       "      <td>6.0</td>\n",
       "      <td>0</td>\n",
       "      <td>6.250000</td>\n",
       "      <td>87.006961</td>\n",
       "      <td>5.083333</td>\n",
       "      <td>87.643678</td>\n",
       "      <td>April</td>\n",
       "      <td>4</td>\n",
       "    </tr>\n",
       "    <tr>\n",
       "      <th>5</th>\n",
       "      <td>2015-05-13</td>\n",
       "      <td>276</td>\n",
       "      <td>779</td>\n",
       "      <td>5.79</td>\n",
       "      <td>15</td>\n",
       "      <td>726.000</td>\n",
       "      <td>172</td>\n",
       "      <td>34</td>\n",
       "      <td>18</td>\n",
       "      <td>1094</td>\n",
       "      <td>...</td>\n",
       "      <td>3.597738</td>\n",
       "      <td>Wednesday</td>\n",
       "      <td>2.0</td>\n",
       "      <td>1</td>\n",
       "      <td>6.750000</td>\n",
       "      <td>88.621444</td>\n",
       "      <td>6.783333</td>\n",
       "      <td>82.892057</td>\n",
       "      <td>May</td>\n",
       "      <td>5</td>\n",
       "    </tr>\n",
       "    <tr>\n",
       "      <th>77</th>\n",
       "      <td>2015-07-24</td>\n",
       "      <td>3468</td>\n",
       "      <td>15779</td>\n",
       "      <td>11.72</td>\n",
       "      <td>23</td>\n",
       "      <td>618.000</td>\n",
       "      <td>346</td>\n",
       "      <td>48</td>\n",
       "      <td>21</td>\n",
       "      <td>2073</td>\n",
       "      <td>...</td>\n",
       "      <td>7.282468</td>\n",
       "      <td>Friday</td>\n",
       "      <td>4.0</td>\n",
       "      <td>1</td>\n",
       "      <td>6.133333</td>\n",
       "      <td>94.117647</td>\n",
       "      <td>5.716667</td>\n",
       "      <td>86.180905</td>\n",
       "      <td>July</td>\n",
       "      <td>7</td>\n",
       "    </tr>\n",
       "  </tbody>\n",
       "</table>\n",
       "<p>10 rows × 24 columns</p>\n",
       "</div>"
      ],
      "text/plain": [
       "           Date  Calorie burned  Steps  Distance  Floors  Minutes Sedentary  \\\n",
       "115  2015-08-31            3136  10757      7.99      15              1.187   \n",
       "63   2015-07-10            3134  10644      7.91      15            683.000   \n",
       "260  2016-01-23            3615  17541     13.12       9            570.000   \n",
       "218  2015-12-12            2766   7157      5.32      11            605.000   \n",
       "269  2016-02-01            2986  11426      8.52      12            911.000   \n",
       "11   2015-05-19            2911  12425      9.23      14            827.000   \n",
       "308  2016-03-10            3307   1853     14.71      20            793.000   \n",
       "353  2016-04-24            2863  10413      7.73       6            700.000   \n",
       "5    2015-05-13             276    779      5.79      15            726.000   \n",
       "77   2015-07-24            3468  15779     11.72      23            618.000   \n",
       "\n",
       "     Minutes Lightly Active  Minutes Fairly Active  Minutes Very Active  \\\n",
       "115                     145                     43                   65   \n",
       "63                      283                     36                   17   \n",
       "260                     358                     50                   45   \n",
       "218                     290                      0                    0   \n",
       "269                     192                     48                   43   \n",
       "11                      186                     18                   54   \n",
       "308                     162                     21                  100   \n",
       "353                     269                     28                   24   \n",
       "5                       172                     34                   18   \n",
       "77                      346                     48                   21   \n",
       "\n",
       "     Activity Calories  ...  Distance_miles       Days  Days_encoded  \\\n",
       "115               1532  ...        4.964754     Monday           0.0   \n",
       "63                1606  ...        4.915045     Friday           4.0   \n",
       "260               2286  ...        8.152388   Saturday           5.0   \n",
       "218               1216  ...        3.305694   Saturday           5.0   \n",
       "269               1478  ...        5.294081     Monday           0.0   \n",
       "11                1351  ...        5.735254    Tuesday           1.0   \n",
       "308               1766  ...        9.140367   Thursday           3.0   \n",
       "353               1411  ...        4.803198     Sunday           6.0   \n",
       "5                 1094  ...        3.597738  Wednesday           2.0   \n",
       "77                2073  ...        7.282468     Friday           4.0   \n",
       "\n",
       "     Work_or_Weekend  Hours Sleep Sleep efficiency  Yesterday_sleep  \\\n",
       "115                1     6.616667        90.846682         5.433333   \n",
       "63                 1     6.133333        85.382831         9.166667   \n",
       "260                0     5.416667        96.726190         7.233333   \n",
       "218                0     3.866667        95.473251         3.266667   \n",
       "269                1     5.466667        89.863014         5.950000   \n",
       "11                 1     6.133333        87.619048         2.783333   \n",
       "308                1     5.566667        91.758242         0.000000   \n",
       "353                0     6.250000        87.006961         5.083333   \n",
       "5                  1     6.750000        88.621444         6.783333   \n",
       "77                 1     6.133333        94.117647         5.716667   \n",
       "\n",
       "     Yesterday_sleep_efficiency    Months  Months_encoded  \n",
       "115                   96.165192    August               8  \n",
       "63                    92.592593      July               7  \n",
       "260                   93.133047   January               1  \n",
       "218                   91.162791  December              12  \n",
       "269                   91.071429  February               2  \n",
       "11                    92.777778       May               5  \n",
       "308                    0.000000     March               3  \n",
       "353                   87.643678     April               4  \n",
       "5                     82.892057       May               5  \n",
       "77                    86.180905      July               7  \n",
       "\n",
       "[10 rows x 24 columns]"
      ]
     },
     "execution_count": 3,
     "metadata": {},
     "output_type": "execute_result"
    }
   ],
   "source": [
    "\n",
    "fitbit = pd.read_csv(\"../data/Fitbit2.csv\")\n",
    "fitbit.sample(10)"
   ]
  },
  {
   "cell_type": "markdown",
   "metadata": {},
   "source": [
    "#### From the Fitbit data, we want to visually understand:\n",
    "\n",
    "How the average number of steps change by month. Use the appropriate visualization to show the median steps by month. Is Fitbitter more active on weekend or workdays?\n",
    "**Hints**:\n",
    "\n",
    "* Use Months_encoded and Week_or Weekend columns.\n",
    "* Set your size figure to 12,4\n",
    "* Explore plt.sca\n",
    "* Explore plt.xticks\n",
    "* Save your figures in a folder called `figures` in your repo. "
   ]
  },
  {
   "cell_type": "code",
   "execution_count": 4,
   "metadata": {},
   "outputs": [
    {
     "data": {
      "text/plain": [
       "<AxesSubplot: xlabel='Months_encoded'>"
      ]
     },
     "execution_count": 4,
     "metadata": {},
     "output_type": "execute_result"
    },
    {
     "data": {
      "image/png": "[encoded data removed]",
      "text/plain": [
       "<Figure size 864x288 with 1 Axes>"
      ]
     },
     "metadata": {},
     "output_type": "display_data"
    }
   ],
   "source": [
    "# AVERAGE STEPS BY MONTH_ENCODED\n",
    "plt.figure(figsize=(12, 4))\n",
    "\n",
    "fitbit.groupby([\"Months_encoded\"])[\"Steps\"].median().plot(kind=\"bar\")\n",
    "\n",
    "#plt.scatter(x = fitbit[\"Steps\"].mean() , y = [\"Months_encoded\"])"
   ]
  },
  {
   "cell_type": "code",
   "execution_count": 5,
   "metadata": {},
   "outputs": [
    {
     "data": {
      "text/plain": [
       "<AxesSubplot: xlabel='Work_or_Weekend'>"
      ]
     },
     "execution_count": 5,
     "metadata": {},
     "output_type": "execute_result"
    },
    {
     "data": {
      "image/png": "[encoded data removed]",
      "text/plain": [
       "<Figure size 864x288 with 1 Axes>"
      ]
     },
     "metadata": {},
     "output_type": "display_data"
    }
   ],
   "source": [
    "# AVERAGE STEPS BY WORK_OR_WEEKEND\n",
    "\n",
    "plt.figure(figsize=(12, 4))\n",
    "\n",
    "fitbit.groupby([\"Work_or_Weekend\"])[\"Steps\"].sum().plot(kind=\"bar\")\n",
    "\n",
    "#work = 1"
   ]
  },
  {
   "cell_type": "markdown",
   "metadata": {},
   "source": [
    "#### Write a loop to plot 3 scatter plots of the following features:\n",
    "\n",
    "* Minutes Lightly Active vs Steps    \n",
    "* Minutes Very Active vs Steps    \n",
    "* Minutes Sedentary vs Steps  "
   ]
  },
  {
   "cell_type": "code",
   "execution_count": 6,
   "metadata": {},
   "outputs": [
    {
     "data": {
      "text/plain": [
       "<Figure size 864x288 with 0 Axes>"
      ]
     },
     "metadata": {},
     "output_type": "display_data"
    },
    {
     "data": {
      "image/png": "[encoded data removed]",
      "text/plain": [
       "<Figure size 864x288 with 1 Axes>"
      ]
     },
     "metadata": {},
     "output_type": "display_data"
    },
    {
     "data": {
      "image/png": "[encoded data removed]",
      "text/plain": [
       "<Figure size 864x288 with 1 Axes>"
      ]
     },
     "metadata": {},
     "output_type": "display_data"
    },
    {
     "data": {
      "image/png": "[encoded data removed]",
      "text/plain": [
       "<Figure size 864x288 with 1 Axes>"
      ]
     },
     "metadata": {},
     "output_type": "display_data"
    }
   ],
   "source": [
    "active_subset = fitbit[[\"Minutes Sedentary\", \"Minutes Lightly Active\", \"Minutes Very Active\"]]\n",
    "plt.figure(figsize=(12, 4))\n",
    "\n",
    "for i in active_subset.columns:\n",
    "    plt.figure()\n",
    "    plt.scatter(x = fitbit[\"Steps\"], y = fitbit[i])\n",
    "    plt.legend(f\"{i}\", loc=2)\n",
    "    plt.show()"
   ]
  },
  {
   "cell_type": "markdown",
   "metadata": {},
   "source": [
    "## Challenge \n",
    "\n",
    "#### Import the `titanic` dataset and store it in a variable called `titanic`. You can find the dataset in Ironhack's database:\n",
    "* db: `titanic`\n",
    "* table: `titanic`"
   ]
  },
  {
   "cell_type": "code",
   "execution_count": 38,
   "metadata": {
    "scrolled": true
   },
   "outputs": [
    {
     "data": {
      "text/html": [
       "<div>\n",
       "<style scoped>\n",
       "    .dataframe tbody tr th:only-of-type {\n",
       "        vertical-align: middle;\n",
       "    }\n",
       "\n",
       "    .dataframe tbody tr th {\n",
       "        vertical-align: top;\n",
       "    }\n",
       "\n",
       "    .dataframe thead th {\n",
       "        text-align: right;\n",
       "    }\n",
       "</style>\n",
       "<table border=\"1\" class=\"dataframe\">\n",
       "  <thead>\n",
       "    <tr style=\"text-align: right;\">\n",
       "      <th></th>\n",
       "      <th>PassengerId</th>\n",
       "      <th>Survived</th>\n",
       "      <th>Pclass</th>\n",
       "      <th>Name</th>\n",
       "      <th>Gender</th>\n",
       "      <th>Age</th>\n",
       "      <th>SibSp</th>\n",
       "      <th>Parch</th>\n",
       "      <th>Ticket</th>\n",
       "      <th>Fare</th>\n",
       "      <th>Cabin</th>\n",
       "      <th>Embarked</th>\n",
       "    </tr>\n",
       "  </thead>\n",
       "  <tbody>\n",
       "    <tr>\n",
       "      <th>578</th>\n",
       "      <td>579</td>\n",
       "      <td>0.0</td>\n",
       "      <td>3</td>\n",
       "      <td>Caram, Mrs. Joseph (Maria Elias)</td>\n",
       "      <td>female</td>\n",
       "      <td>19.978627</td>\n",
       "      <td>1</td>\n",
       "      <td>0</td>\n",
       "      <td>2689</td>\n",
       "      <td>14.4583</td>\n",
       "      <td>U0</td>\n",
       "      <td>C</td>\n",
       "    </tr>\n",
       "    <tr>\n",
       "      <th>1308</th>\n",
       "      <td>1309</td>\n",
       "      <td>NaN</td>\n",
       "      <td>3</td>\n",
       "      <td>Peter, Master. Michael J</td>\n",
       "      <td>male</td>\n",
       "      <td>25.315435</td>\n",
       "      <td>1</td>\n",
       "      <td>1</td>\n",
       "      <td>2668</td>\n",
       "      <td>22.3583</td>\n",
       "      <td>U0</td>\n",
       "      <td>C</td>\n",
       "    </tr>\n",
       "    <tr>\n",
       "      <th>995</th>\n",
       "      <td>996</td>\n",
       "      <td>NaN</td>\n",
       "      <td>3</td>\n",
       "      <td>Thomas, Mrs. Alexander (Thamine Thelma\")\"</td>\n",
       "      <td>female</td>\n",
       "      <td>16.000000</td>\n",
       "      <td>1</td>\n",
       "      <td>1</td>\n",
       "      <td>2625</td>\n",
       "      <td>8.5167</td>\n",
       "      <td>U0</td>\n",
       "      <td>C</td>\n",
       "    </tr>\n",
       "    <tr>\n",
       "      <th>809</th>\n",
       "      <td>810</td>\n",
       "      <td>1.0</td>\n",
       "      <td>1</td>\n",
       "      <td>Chambers, Mrs. Norman Campbell (Bertha Griggs)</td>\n",
       "      <td>female</td>\n",
       "      <td>33.000000</td>\n",
       "      <td>1</td>\n",
       "      <td>0</td>\n",
       "      <td>113806</td>\n",
       "      <td>53.1000</td>\n",
       "      <td>E8</td>\n",
       "      <td>S</td>\n",
       "    </tr>\n",
       "    <tr>\n",
       "      <th>254</th>\n",
       "      <td>255</td>\n",
       "      <td>0.0</td>\n",
       "      <td>3</td>\n",
       "      <td>Rosblom, Mrs. Viktor (Helena Wilhelmina)</td>\n",
       "      <td>female</td>\n",
       "      <td>41.000000</td>\n",
       "      <td>0</td>\n",
       "      <td>2</td>\n",
       "      <td>370129</td>\n",
       "      <td>20.2125</td>\n",
       "      <td>U0</td>\n",
       "      <td>S</td>\n",
       "    </tr>\n",
       "  </tbody>\n",
       "</table>\n",
       "</div>"
      ],
      "text/plain": [
       "      PassengerId  Survived  Pclass  \\\n",
       "578           579       0.0       3   \n",
       "1308         1309       NaN       3   \n",
       "995           996       NaN       3   \n",
       "809           810       1.0       1   \n",
       "254           255       0.0       3   \n",
       "\n",
       "                                                Name  Gender        Age  \\\n",
       "578                 Caram, Mrs. Joseph (Maria Elias)  female  19.978627   \n",
       "1308                        Peter, Master. Michael J    male  25.315435   \n",
       "995        Thomas, Mrs. Alexander (Thamine Thelma\")\"  female  16.000000   \n",
       "809   Chambers, Mrs. Norman Campbell (Bertha Griggs)  female  33.000000   \n",
       "254         Rosblom, Mrs. Viktor (Helena Wilhelmina)  female  41.000000   \n",
       "\n",
       "      SibSp  Parch  Ticket     Fare Cabin Embarked  \n",
       "578       1      0    2689  14.4583    U0        C  \n",
       "1308      1      1    2668  22.3583    U0        C  \n",
       "995       1      1    2625   8.5167    U0        C  \n",
       "809       1      0  113806  53.1000    E8        S  \n",
       "254       0      2  370129  20.2125    U0        S  "
      ]
     },
     "execution_count": 38,
     "metadata": {},
     "output_type": "execute_result"
    }
   ],
   "source": [
    "titanic = pd.read_csv(\"../data/titanic.csv\")\n",
    "titanic.sample(5)\n"
   ]
  },
  {
   "cell_type": "markdown",
   "metadata": {},
   "source": [
    "#### Explore the titanic dataset using Pandas dtypes."
   ]
  },
  {
   "cell_type": "code",
   "execution_count": 8,
   "metadata": {},
   "outputs": [
    {
     "data": {
      "text/plain": [
       "PassengerId      int64\n",
       "Survived       float64\n",
       "Pclass           int64\n",
       "Name            object\n",
       "Gender          object\n",
       "Age            float64\n",
       "SibSp            int64\n",
       "Parch            int64\n",
       "Ticket          object\n",
       "Fare           float64\n",
       "Cabin           object\n",
       "Embarked        object\n",
       "dtype: object"
      ]
     },
     "execution_count": 8,
     "metadata": {},
     "output_type": "execute_result"
    }
   ],
   "source": [
    "titanic.dtypes"
   ]
  },
  {
   "cell_type": "markdown",
   "metadata": {},
   "source": [
    "#### What are your numerical variables? What are your categorical variables?\n",
    "**Hint**: Use Pandas select_dtypes."
   ]
  },
  {
   "cell_type": "code",
   "execution_count": 9,
   "metadata": {},
   "outputs": [
    {
     "name": "stdout",
     "output_type": "stream",
     "text": [
      "      PassengerId  Pclass  SibSp  Parch\n",
      "0               1       3      1      0\n",
      "1               2       1      1      0\n",
      "2               3       3      0      0\n",
      "3               4       1      1      0\n",
      "4               5       3      0      0\n",
      "...           ...     ...    ...    ...\n",
      "1304         1305       3      0      0\n",
      "1305         1306       1      0      0\n",
      "1306         1307       3      0      0\n",
      "1307         1308       3      0      0\n",
      "1308         1309       3      1      1\n",
      "\n",
      "[1309 rows x 4 columns]\n",
      "\n",
      "\n",
      "       Survived        Age      Fare\n",
      "0          0.0  22.000000    7.2500\n",
      "1          1.0  38.000000   71.2833\n",
      "2          1.0  26.000000    7.9250\n",
      "3          1.0  35.000000   53.1000\n",
      "4          0.0  35.000000    8.0500\n",
      "...        ...        ...       ...\n",
      "1304       NaN  29.513190    8.0500\n",
      "1305       NaN  39.000000  108.9000\n",
      "1306       NaN  38.500000    7.2500\n",
      "1307       NaN  29.513190    8.0500\n",
      "1308       NaN  25.315435   22.3583\n",
      "\n",
      "[1309 rows x 3 columns]\n"
     ]
    }
   ],
   "source": [
    "# NUMERICAL VARIABLES\n",
    "print(titanic.select_dtypes(int))\n",
    "print(\"\\n\\n\",titanic.select_dtypes(float))"
   ]
  },
  {
   "cell_type": "code",
   "execution_count": 10,
   "metadata": {},
   "outputs": [
    {
     "name": "stdout",
     "output_type": "stream",
     "text": [
      "\n",
      "\n",
      "                                                    Name  Gender  \\\n",
      "0                               Braund, Mr. Owen Harris    male   \n",
      "1     Cumings, Mrs. John Bradley (Florence Briggs Th...  female   \n",
      "2                                Heikkinen, Miss. Laina  female   \n",
      "3          Futrelle, Mrs. Jacques Heath (Lily May Peel)  female   \n",
      "4                              Allen, Mr. William Henry    male   \n",
      "...                                                 ...     ...   \n",
      "1304                                 Spector, Mr. Woolf    male   \n",
      "1305                       Oliva y Ocana, Dona. Fermina  female   \n",
      "1306                       Saether, Mr. Simon Sivertsen    male   \n",
      "1307                                Ware, Mr. Frederick    male   \n",
      "1308                           Peter, Master. Michael J    male   \n",
      "\n",
      "                  Ticket Cabin Embarked  \n",
      "0              A/5 21171    U0        S  \n",
      "1               PC 17599   C85        C  \n",
      "2       STON/O2. 3101282    U0        S  \n",
      "3                 113803  C123        S  \n",
      "4                 373450    U0        S  \n",
      "...                  ...   ...      ...  \n",
      "1304           A.5. 3236    U0        S  \n",
      "1305            PC 17758  C105        C  \n",
      "1306  SOTON/O.Q. 3101262    U0        S  \n",
      "1307              359309    U0        S  \n",
      "1308                2668    U0        C  \n",
      "\n",
      "[1309 rows x 5 columns]\n"
     ]
    }
   ],
   "source": [
    "# CATEGORICAL VARIABLES\n",
    "print(\"\\n\\n\",titanic.select_dtypes(object))"
   ]
  },
  {
   "cell_type": "markdown",
   "metadata": {},
   "source": [
    "#### Set the plot style to classic and the figure size to (12,6).\n",
    "**Hint**: To set the style you can use matplotlib or seaborn functions. Do some research on the matter."
   ]
  },
  {
   "cell_type": "code",
   "execution_count": 11,
   "metadata": {},
   "outputs": [
    {
     "data": {
      "text/plain": [
       "<Figure size 960x480 with 0 Axes>"
      ]
     },
     "execution_count": 11,
     "metadata": {},
     "output_type": "execute_result"
    },
    {
     "data": {
      "text/plain": [
       "<Figure size 960x480 with 0 Axes>"
      ]
     },
     "metadata": {},
     "output_type": "display_data"
    }
   ],
   "source": [
    "plt.style.use('classic')\n",
    "plt.figure(figsize=(12, 6))\n"
   ]
  },
  {
   "cell_type": "markdown",
   "metadata": {},
   "source": [
    "#### Use the right visulalization to show the distribution of column `Age`."
   ]
  },
  {
   "cell_type": "code",
   "execution_count": 43,
   "metadata": {},
   "outputs": [
    {
     "data": {
      "text/plain": [
       "<AxesSubplot: ylabel='Frequency'>"
      ]
     },
     "execution_count": 43,
     "metadata": {},
     "output_type": "execute_result"
    },
    {
     "data": {
      "image/png": "[encoded data removed]",
      "text/plain": [
       "<Figure size 1600x1200 with 3 Axes>"
      ]
     },
     "metadata": {},
     "output_type": "display_data"
    }
   ],
   "source": [
    "fig, axs = plt.subplots(nrows=1, ncols=3, figsize=(20,15))\n",
    "\n",
    "titanic.Age.plot.hist(bins=10, color=\"#fd7e74\", rwidth=0.7, ax=axs[0])\n",
    "titanic.Age.plot.hist(bins=20, color=\"#fd7e74\", rwidth=0.7, ax=axs[1])\n",
    "titanic.Age.plot.hist(bins=50, color=\"#fd7e74\", rwidth=0.7, ax=axs[2])\n"
   ]
  },
  {
   "cell_type": "markdown",
   "metadata": {},
   "source": [
    "#### Use subplots and plot the distribution of the `Age`  with bins equal to 10, 20 and 50."
   ]
  },
  {
   "cell_type": "markdown",
   "metadata": {},
   "source": [
    "#### How does the bin size affect your plot?"
   ]
  },
  {
   "cell_type": "code",
   "execution_count": 13,
   "metadata": {},
   "outputs": [
    {
     "data": {
      "text/plain": [
       "'\\nThe size 50 adds too much noise to it\\n'"
      ]
     },
     "execution_count": 13,
     "metadata": {},
     "output_type": "execute_result"
    }
   ],
   "source": [
    "\"\"\"\n",
    "The size 50 adds too much noise to it\n",
    "\"\"\""
   ]
  },
  {
   "cell_type": "markdown",
   "metadata": {},
   "source": [
    "#### Use seaborn to show the distribution of column `Age`."
   ]
  },
  {
   "cell_type": "code",
   "execution_count": 34,
   "metadata": {},
   "outputs": [
    {
     "data": {
      "text/plain": [
       "<AxesSubplot: xlabel='Age', ylabel='Count'>"
      ]
     },
     "execution_count": 34,
     "metadata": {},
     "output_type": "execute_result"
    },
    {
     "data": {
      "image/png": "[encoded data removed]",
      "text/plain": [
       "<Figure size 640x480 with 1 Axes>"
      ]
     },
     "metadata": {},
     "output_type": "display_data"
    }
   ],
   "source": [
    "sns.histplot(data = titanic, x = \"Age\", color = 'green', bins = 15)"
   ]
  },
  {
   "cell_type": "markdown",
   "metadata": {},
   "source": [
    "#### Use the right plot to visualize column `Gender`. There are 2 ways of doing it. Do it both ways.\n",
    "**Hint**: Use matplotlib and seaborn."
   ]
  },
  {
   "cell_type": "code",
   "execution_count": 32,
   "metadata": {},
   "outputs": [
    {
     "data": {
      "text/plain": [
       "<AxesSubplot: xlabel='Gender'>"
      ]
     },
     "execution_count": 32,
     "metadata": {},
     "output_type": "execute_result"
    },
    {
     "data": {
      "image/png": "[encoded data removed]",
      "text/plain": [
       "<Figure size 640x480 with 1 Axes>"
      ]
     },
     "metadata": {},
     "output_type": "display_data"
    }
   ],
   "source": [
    "# Method 1 - matplotlib\n",
    "titanic.groupby([\"Gender\"])[\"PassengerId\"].count().plot(kind=\"bar\", color = 'green')\n"
   ]
  },
  {
   "cell_type": "code",
   "execution_count": 37,
   "metadata": {},
   "outputs": [
    {
     "data": {
      "text/plain": [
       "<AxesSubplot: xlabel='Gender', ylabel='count'>"
      ]
     },
     "execution_count": 37,
     "metadata": {},
     "output_type": "execute_result"
    },
    {
     "data": {
      "image/png": "[encoded data removed]",
      "text/plain": [
       "<Figure size 640x480 with 1 Axes>"
      ]
     },
     "metadata": {},
     "output_type": "display_data"
    }
   ],
   "source": [
    "# Method 2 - seaborn\n",
    "sns.countplot(x=titanic.Gender)"
   ]
  },
  {
   "cell_type": "markdown",
   "metadata": {},
   "source": [
    "#### Use the right plot to visualize the column `Pclass`."
   ]
  },
  {
   "cell_type": "code",
   "execution_count": 39,
   "metadata": {},
   "outputs": [
    {
     "data": {
      "text/plain": [
       "<AxesSubplot: xlabel='Pclass', ylabel='count'>"
      ]
     },
     "execution_count": 39,
     "metadata": {},
     "output_type": "execute_result"
    },
    {
     "data": {
      "image/png": "[encoded data removed]",
      "text/plain": [
       "<Figure size 640x480 with 1 Axes>"
      ]
     },
     "metadata": {},
     "output_type": "display_data"
    }
   ],
   "source": [
    "sns.countplot(x=titanic.Pclass)"
   ]
  },
  {
   "cell_type": "markdown",
   "metadata": {},
   "source": [
    "#### We would like to have in one single plot the summary statistics of the feature `Age`. What kind of plot would you use? Plot it. "
   ]
  },
  {
   "cell_type": "code",
   "execution_count": 40,
   "metadata": {},
   "outputs": [
    {
     "data": {
      "text/plain": [
       "<AxesSubplot: xlabel='Age'>"
      ]
     },
     "execution_count": 40,
     "metadata": {},
     "output_type": "execute_result"
    },
    {
     "data": {
      "image/png": "[encoded data removed]",
      "text/plain": [
       "<Figure size 640x480 with 1 Axes>"
      ]
     },
     "metadata": {},
     "output_type": "display_data"
    }
   ],
   "source": [
    "sns.boxplot(x=\"Age\", data=titanic)"
   ]
  },
  {
   "cell_type": "code",
   "execution_count": 19,
   "metadata": {},
   "outputs": [
    {
     "data": {
      "text/plain": [
       "'\\nyour comments here\\n'"
      ]
     },
     "execution_count": 19,
     "metadata": {},
     "output_type": "execute_result"
    }
   ],
   "source": [
    "\"\"\"\n",
    "your comments here\n",
    "\"\"\""
   ]
  },
  {
   "cell_type": "markdown",
   "metadata": {},
   "source": [
    "#### What does the last plot tell you about the feature `Age`?"
   ]
  },
  {
   "cell_type": "code",
   "execution_count": 20,
   "metadata": {},
   "outputs": [
    {
     "data": {
      "text/plain": [
       "'\\nyour comments here\\n'"
      ]
     },
     "execution_count": 20,
     "metadata": {},
     "output_type": "execute_result"
    }
   ],
   "source": [
    "\"\"\"\n",
    "Most people were between 20 something and 30 something years old. \n",
    "75% of people were older than 20. \n",
    "People older than 60 were outliers.\n",
    "\"\"\""
   ]
  },
  {
   "cell_type": "markdown",
   "metadata": {},
   "source": [
    "#### Now in addition to the summary statistics, we want to have in the same plot the distribution of `Age`. What kind of plot would you use? Plot it. "
   ]
  },
  {
   "cell_type": "code",
   "execution_count": 48,
   "metadata": {},
   "outputs": [
    {
     "data": {
      "text/plain": [
       "{'whiskers': [<matplotlib.lines.Line2D at 0x1294c9f40a0>,\n",
       "  <matplotlib.lines.Line2D at 0x1294c9f56f0>],\n",
       " 'caps': [<matplotlib.lines.Line2D at 0x12949ba9720>,\n",
       "  <matplotlib.lines.Line2D at 0x12949ba98d0>],\n",
       " 'boxes': [<matplotlib.lines.Line2D at 0x1294b5dded0>],\n",
       " 'medians': [<matplotlib.lines.Line2D at 0x12949ba8b50>],\n",
       " 'fliers': [<matplotlib.lines.Line2D at 0x12949ba8460>],\n",
       " 'means': []}"
      ]
     },
     "execution_count": 48,
     "metadata": {},
     "output_type": "execute_result"
    },
    {
     "data": {
      "image/png": "[encoded data removed]",
      "text/plain": [
       "<Figure size 1600x1200 with 2 Axes>"
      ]
     },
     "metadata": {},
     "output_type": "display_data"
    }
   ],
   "source": [
    "fig, axs = plt.subplots(nrows=1, ncols=2, figsize=(20,15))\n",
    "\n",
    "titanic.Age.plot.hist(bins=10, color=\"#fd7e74\", rwidth=0.7, ax=axs[0])\n",
    "plt.boxplot(titanic.Age)\n",
    "\n",
    "#I don't know what kind of plot would give me both things at the same time"
   ]
  },
  {
   "cell_type": "markdown",
   "metadata": {},
   "source": [
    "#### What additional information does the last plot provide about feature `Age`?"
   ]
  },
  {
   "cell_type": "code",
   "execution_count": 22,
   "metadata": {},
   "outputs": [
    {
     "data": {
      "text/plain": [
       "'\\nyour comments here\\n'"
      ]
     },
     "execution_count": 22,
     "metadata": {},
     "output_type": "execute_result"
    }
   ],
   "source": [
    "\"\"\"\n",
    "your comments here\n",
    "\"\"\""
   ]
  },
  {
   "cell_type": "markdown",
   "metadata": {},
   "source": [
    "#### We suspect that there is a linear relationship between `Fare` and `Age`. Use the right plot to show the relationship between these 2 features. There are 2 ways, please do it both ways.\n",
    "**Hint**: Use matplotlib and seaborn."
   ]
  },
  {
   "cell_type": "code",
   "execution_count": 23,
   "metadata": {},
   "outputs": [],
   "source": [
    "# Method 1 - matplotlib\n",
    "# your code here"
   ]
  },
  {
   "cell_type": "code",
   "execution_count": 24,
   "metadata": {},
   "outputs": [],
   "source": [
    "# Method 2 - seaborn\n",
    "# your code here"
   ]
  },
  {
   "cell_type": "markdown",
   "metadata": {},
   "source": [
    "#### Plot the correlation matrix using seaborn."
   ]
  },
  {
   "cell_type": "code",
   "execution_count": 25,
   "metadata": {},
   "outputs": [],
   "source": [
    "# your code here"
   ]
  },
  {
   "cell_type": "markdown",
   "metadata": {},
   "source": [
    "#### What are the most correlated features?"
   ]
  },
  {
   "cell_type": "code",
   "execution_count": 26,
   "metadata": {},
   "outputs": [
    {
     "data": {
      "text/plain": [
       "'\\nyour comments here\\n'"
      ]
     },
     "execution_count": 26,
     "metadata": {},
     "output_type": "execute_result"
    }
   ],
   "source": [
    "\"\"\"\n",
    "your comments here\n",
    "\"\"\""
   ]
  },
  {
   "cell_type": "markdown",
   "metadata": {},
   "source": [
    "#### Use the most appropriate plot to display the summary statistics of `Age` depending on `Pclass`."
   ]
  },
  {
   "cell_type": "code",
   "execution_count": 27,
   "metadata": {
    "scrolled": true
   },
   "outputs": [],
   "source": [
    "# your code here"
   ]
  },
  {
   "cell_type": "markdown",
   "metadata": {},
   "source": [
    "#### Use seaborn to plot the distribution of `Age` based on the `Gender`.\n",
    "**Hint**: Use Facetgrid."
   ]
  },
  {
   "cell_type": "code",
   "execution_count": 28,
   "metadata": {},
   "outputs": [],
   "source": [
    "# your code here"
   ]
  }
 ],
 "metadata": {
  "anaconda-cloud": {},
  "kernelspec": {
   "display_name": "ironhack",
   "language": "python",
   "name": "ironhack"
  },
  "language_info": {
   "codemirror_mode": {
    "name": "ipython",
    "version": 3
   },
   "file_extension": ".py",
   "mimetype": "text/x-python",
   "name": "python",
   "nbconvert_exporter": "python",
   "pygments_lexer": "ipython3",
   "version": "3.10.4"
  },
  "toc": {
   "base_numbering": 1,
   "nav_menu": {},
   "number_sections": true,
   "sideBar": true,
   "skip_h1_title": true,
   "title_cell": "Table of Contents",
   "title_sidebar": "Contents",
   "toc_cell": false,
   "toc_position": {},
   "toc_section_display": true,
   "toc_window_display": false
  }
 },
 "nbformat": 4,
 "nbformat_minor": 1
}
